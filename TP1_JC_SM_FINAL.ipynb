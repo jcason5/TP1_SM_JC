{
 "cells": [
  {
   "cell_type": "markdown",
   "id": "25759bae",
   "metadata": {},
   "source": [
    "## TP1_JC_SM\n",
    "#### 03/21/24\n",
    "#### V3"
   ]
  },
  {
   "cell_type": "code",
   "execution_count": null,
   "id": "b36673ab",
   "metadata": {},
   "outputs": [],
   "source": [
    "# Loading modules for graphs and analysis\n",
    "import pandas as pd\n",
    "import numpy as np\n",
    "import matplotlib.pyplot as plt\n",
    "import seaborn as sns\n",
    "import warnings\n",
    "warnings.filterwarnings('ignore')"
   ]
  },
  {
   "cell_type": "code",
   "execution_count": null,
   "id": "e74182be",
   "metadata": {},
   "outputs": [],
   "source": [
    "# Loading data set\n",
    "#Load the data set\n",
    "data=pd.read_csv('top_10000_1960-JCSM.csv')\n",
    "#visualize the top five rows in the data using the head function\n",
    "data.head()"
   ]
  },
  {
   "cell_type": "markdown",
   "id": "9df32366",
   "metadata": {},
   "source": [
    "## Dropping unneeded Columns"
   ]
  },
  {
   "cell_type": "code",
   "execution_count": null,
   "id": "5cfeb513",
   "metadata": {},
   "outputs": [],
   "source": [
    "data.info()"
   ]
  },
  {
   "cell_type": "code",
   "execution_count": null,
   "id": "3d9ff528",
   "metadata": {},
   "outputs": [],
   "source": [
    "data=data.drop('Track URI', axis=1)"
   ]
  },
  {
   "cell_type": "code",
   "execution_count": null,
   "id": "97f3417e",
   "metadata": {},
   "outputs": [],
   "source": [
    "data=data.drop('Artist URI(s)', axis=1)"
   ]
  },
  {
   "cell_type": "code",
   "execution_count": null,
   "id": "c5a653df",
   "metadata": {},
   "outputs": [],
   "source": [
    "data=data.drop('Album URI', axis=1)"
   ]
  },
  {
   "cell_type": "code",
   "execution_count": null,
   "id": "4630218f",
   "metadata": {},
   "outputs": [],
   "source": [
    "data=data.drop('Album Artist URI(s)', axis=1)"
   ]
  },
  {
   "cell_type": "code",
   "execution_count": null,
   "id": "d0d74ea3",
   "metadata": {},
   "outputs": [],
   "source": [
    "data=data.drop('Album Image URL', axis=1)"
   ]
  },
  {
   "cell_type": "code",
   "execution_count": null,
   "id": "cd420ded",
   "metadata": {},
   "outputs": [],
   "source": [
    "data=data.drop('Track Preview URL', axis=1)"
   ]
  },
  {
   "cell_type": "code",
   "execution_count": null,
   "id": "29ed1dde",
   "metadata": {},
   "outputs": [],
   "source": [
    "data.info()"
   ]
  },
  {
   "cell_type": "code",
   "execution_count": null,
   "id": "41c0f417",
   "metadata": {},
   "outputs": [],
   "source": [
    "data.head()"
   ]
  },
  {
   "cell_type": "markdown",
   "id": "c7d1f214",
   "metadata": {},
   "source": [
    "### addition of \"Year\" using datetime"
   ]
  },
  {
   "cell_type": "code",
   "execution_count": null,
   "id": "82956446",
   "metadata": {},
   "outputs": [],
   "source": [
    "data['Album Release Date']=pd.to_datetime(data['Album Release Date'], errors='coerce')"
   ]
  },
  {
   "cell_type": "code",
   "execution_count": null,
   "id": "cdb4d6ef",
   "metadata": {},
   "outputs": [],
   "source": [
    "data['Year']=data['Album Release Date'].dt.year"
   ]
  },
  {
   "cell_type": "code",
   "execution_count": null,
   "id": "7387c9e8",
   "metadata": {},
   "outputs": [],
   "source": [
    "data.head()"
   ]
  },
  {
   "cell_type": "markdown",
   "id": "fd6952fa",
   "metadata": {},
   "source": [
    "### Creation of Charts and graphs. \n",
    "#### Some Finalized in Tableau"
   ]
  },
  {
   "cell_type": "code",
   "execution_count": null,
   "id": "69325982",
   "metadata": {},
   "outputs": [],
   "source": [
    "data['Artist Genres'].value_counts().head().plot(kind='bar')"
   ]
  },
  {
   "cell_type": "code",
   "execution_count": null,
   "id": "7c90a2dd",
   "metadata": {},
   "outputs": [],
   "source": [
    "data['Explicit'].value_counts()"
   ]
  },
  {
   "cell_type": "code",
   "execution_count": null,
   "id": "a8d54dce",
   "metadata": {},
   "outputs": [],
   "source": [
    "data['Label'].value_counts()"
   ]
  },
  {
   "cell_type": "code",
   "execution_count": null,
   "id": "9e51e382",
   "metadata": {},
   "outputs": [],
   "source": [
    "plt.scatter(data['Acousticness'], data['Loudness'])\n",
    "plt.xlabel(\"Acouticness\")\n",
    "plt.ylabel(\"Loudness\")\n",
    "plt.show()"
   ]
  },
  {
   "cell_type": "code",
   "execution_count": null,
   "id": "8bcd25c2",
   "metadata": {},
   "outputs": [],
   "source": [
    "plt.scatter(data['Energy'], data['Loudness'])\n",
    "plt.xlabel(\"Energy\")\n",
    "plt.ylabel(\"Loudness\")\n",
    "plt.show()"
   ]
  },
  {
   "cell_type": "markdown",
   "id": "2e113c0a",
   "metadata": {},
   "source": [
    "## Creation of Heatmap and correlation Tables"
   ]
  },
  {
   "cell_type": "code",
   "execution_count": null,
   "id": "4ed32898",
   "metadata": {},
   "outputs": [],
   "source": [
    "corr=data[['Danceability', 'Loudness', 'Popularity', 'Year', 'Acousticness', 'Instrumentalness', 'Valence', 'Tempo', 'Mode', 'Speechiness', 'Key']].corr()\n",
    "print(corr)\n",
    "sns.heatmap(corr, annot=True)\n",
    "# total"
   ]
  },
  {
   "cell_type": "code",
   "execution_count": null,
   "id": "3df19f2b",
   "metadata": {},
   "outputs": [],
   "source": [
    "corr=data[['Loudness', 'Popularity', 'Year', 'Energy', 'Key', 'Danceability', 'Acousticness']].corr()\n",
    "print(corr)\n",
    "sns.heatmap(corr, annot=True)\n",
    "# adjusted"
   ]
  },
  {
   "cell_type": "markdown",
   "id": "98867fc8",
   "metadata": {},
   "source": [
    "## Summary Statistical analysis"
   ]
  },
  {
   "cell_type": "code",
   "execution_count": null,
   "id": "0a76f77f",
   "metadata": {},
   "outputs": [],
   "source": [
    "data[['Year','Energy','Track Number', 'Disc Number', 'Track Duration (ms)','Danceability','Loudness','Popularity','Year','Acousticness','Instrumentalness','Valence','Tempo','Mode','Speechiness','Key']].describe()\n"
   ]
  },
  {
   "cell_type": "markdown",
   "id": "8033296f",
   "metadata": {},
   "source": [
    "### Dataframe CVS Format"
   ]
  },
  {
   "cell_type": "code",
   "execution_count": null,
   "id": "6449ec49",
   "metadata": {},
   "outputs": [],
   "source": [
    "data.to_csv('top_10000_1960-JCSM1.csv', index=False)"
   ]
  }
 ],
 "metadata": {
  "kernelspec": {
   "display_name": "Python 3 (ipykernel)",
   "language": "python",
   "name": "python3"
  },
  "language_info": {
   "codemirror_mode": {
    "name": "ipython",
    "version": 3
   },
   "file_extension": ".py",
   "mimetype": "text/x-python",
   "name": "python",
   "nbconvert_exporter": "python",
   "pygments_lexer": "ipython3",
   "version": "3.9.13"
  }
 },
 "nbformat": 4,
 "nbformat_minor": 5
}
